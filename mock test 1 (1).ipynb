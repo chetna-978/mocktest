{
 "cells": [
  {
   "cell_type": "markdown",
   "id": "e58989bf",
   "metadata": {},
   "source": [
    "### QUESTION1"
   ]
  },
  {
   "cell_type": "code",
   "execution_count": 1,
   "id": "763f6216",
   "metadata": {},
   "outputs": [],
   "source": [
    "def moveZeroes(nums):\n",
    "    # Initialize two pointers: one(i) for the current position and one(j) for the position to swap with\n",
    "    left = 0\n",
    "    right = 0\n",
    "\n",
    "    # Iterate through the array\n",
    "    while left < len(nums):\n",
    "        # If the current element is non-zero, swap it with the element to swap with\n",
    "        if nums[left] != 0:\n",
    "            nums[left], nums[right] = nums[right], nums[left]\n",
    "            right += 1\n",
    "\n",
    "        left += 1\n"
   ]
  },
  {
   "cell_type": "code",
   "execution_count": 2,
   "id": "68f61c5e",
   "metadata": {},
   "outputs": [
    {
     "name": "stdout",
     "output_type": "stream",
     "text": [
      "[1, 3, 12, 0, 0]\n",
      "[0]\n"
     ]
    }
   ],
   "source": [
    "nums1 = [0, 1, 0, 3, 12]\n",
    "moveZeroes(nums1)\n",
    "print(nums1)\n",
    "\n",
    "nums2 = [0]\n",
    "moveZeroes(nums2)\n",
    "print(nums2)  "
   ]
  },
  {
   "cell_type": "markdown",
   "id": "ec2a8d14",
   "metadata": {},
   "source": [
    "### QUESTION2"
   ]
  },
  {
   "cell_type": "code",
   "execution_count": 3,
   "id": "bce8fb1f",
   "metadata": {},
   "outputs": [],
   "source": [
    "def firstUniqChar(s):\n",
    "    count = {}\n",
    "    n = len(s)\n",
    "    # build hash map: character and how often it appears\n",
    "    for i in range(n):\n",
    "        c = s[i]\n",
    "        count[c] = count.get(c, 0) + 1\n",
    "\n",
    "    # find the index\n",
    "    for i in range(n):\n",
    "        if count[s[i]] == 1:\n",
    "            return i\n",
    "    return -1"
   ]
  },
  {
   "cell_type": "code",
   "execution_count": 4,
   "id": "f738c570",
   "metadata": {},
   "outputs": [
    {
     "name": "stdout",
     "output_type": "stream",
     "text": [
      "0\n",
      "2\n",
      "-1\n"
     ]
    }
   ],
   "source": [
    "s1 = \"leetcode\"\n",
    "print(firstUniqChar(s1))  \n",
    "\n",
    "s2 = \"loveleetcode\"\n",
    "print(firstUniqChar(s2)) \n",
    "\n",
    "s3 = \"aabb\"\n",
    "print(firstUniqChar(s3)) "
   ]
  },
  {
   "cell_type": "code",
   "execution_count": null,
   "id": "854dd667",
   "metadata": {},
   "outputs": [],
   "source": []
  }
 ],
 "metadata": {
  "kernelspec": {
   "display_name": "Python 3 (ipykernel)",
   "language": "python",
   "name": "python3"
  },
  "language_info": {
   "codemirror_mode": {
    "name": "ipython",
    "version": 3
   },
   "file_extension": ".py",
   "mimetype": "text/x-python",
   "name": "python",
   "nbconvert_exporter": "python",
   "pygments_lexer": "ipython3",
   "version": "3.9.12"
  }
 },
 "nbformat": 4,
 "nbformat_minor": 5
}
