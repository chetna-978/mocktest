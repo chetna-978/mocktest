{
 "cells": [
  {
   "cell_type": "markdown",
   "id": "b4ecf14e",
   "metadata": {},
   "source": [
    "QUESTION 1"
   ]
  },
  {
   "cell_type": "code",
   "execution_count": 1,
   "id": "7902a25c",
   "metadata": {},
   "outputs": [],
   "source": [
    "def mySqrt(x):\n",
    "    if x == 0:\n",
    "        return 0\n",
    "    \n",
    "    left, right = 1, x\n",
    "    while left <= right:\n",
    "        mid = left + (right - left) // 2\n",
    "        if mid * mid == x:\n",
    "            return mid\n",
    "        elif mid * mid < x:\n",
    "            left = mid + 1\n",
    "        else:\n",
    "            right = mid - 1\n",
    "    \n",
    "    return right\n"
   ]
  },
  {
   "cell_type": "code",
   "execution_count": 2,
   "id": "1605ed87",
   "metadata": {},
   "outputs": [
    {
     "data": {
      "text/plain": [
       "2"
      ]
     },
     "execution_count": 2,
     "metadata": {},
     "output_type": "execute_result"
    }
   ],
   "source": [
    "x=4\n",
    "mySqrt(x)"
   ]
  },
  {
   "cell_type": "code",
   "execution_count": 3,
   "id": "86044a72",
   "metadata": {},
   "outputs": [
    {
     "data": {
      "text/plain": [
       "2"
      ]
     },
     "execution_count": 3,
     "metadata": {},
     "output_type": "execute_result"
    }
   ],
   "source": [
    "x=8\n",
    "mySqrt(x)"
   ]
  },
  {
   "cell_type": "markdown",
   "id": "86df3325",
   "metadata": {},
   "source": [
    "QUESTION 2"
   ]
  },
  {
   "cell_type": "code",
   "execution_count": 18,
   "id": "04131164",
   "metadata": {},
   "outputs": [],
   "source": [
    "class ListNode:\n",
    "    def __init__(self, val=0, next=None):\n",
    "        self.val = val\n",
    "        self.next = next\n",
    "\n",
    "def createLinkedList(nums):\n",
    "    dummy = ListNode(0)\n",
    "    current = dummy\n",
    "    for num in nums:\n",
    "        current.next = ListNode(num)\n",
    "        current = current.next\n",
    "    return dummy.next\n",
    "\n",
    "def addTwoNumbers(l1, l2):\n",
    "    dummy = ListNode(0)  # Dummy node to simplify the code\n",
    "    current = dummy\n",
    "    carry = 0\n",
    "\n",
    "    while l1 or l2 or carry:\n",
    "        sum = carry\n",
    "\n",
    "        if l1:\n",
    "            sum += l1.val\n",
    "            l1 = l1.next\n",
    "\n",
    "        if l2:\n",
    "            sum += l2.val\n",
    "            l2 = l2.next\n",
    "\n",
    "        carry = sum // 10\n",
    "        digit = sum % 10\n",
    "        current.next = ListNode(digit)\n",
    "        current = current.next\n",
    "\n",
    "    return dummy.next\n",
    "\n"
   ]
  },
  {
   "cell_type": "code",
   "execution_count": 17,
   "id": "fa87806a",
   "metadata": {},
   "outputs": [
    {
     "name": "stdout",
     "output_type": "stream",
     "text": [
      "7 0 8 "
     ]
    }
   ],
   "source": [
    "l1 = createLinkedList([2, 4, 3])\n",
    "l2 = createLinkedList([5, 6, 4])\n",
    "result = addTwoNumbers(l1, l2)\n",
    "\n",
    "# Print the result\n",
    "while result:\n",
    "    print(result.val, end=\" \")\n",
    "    result = result.next\n"
   ]
  },
  {
   "cell_type": "code",
   "execution_count": null,
   "id": "ac921711",
   "metadata": {},
   "outputs": [],
   "source": []
  }
 ],
 "metadata": {
  "kernelspec": {
   "display_name": "Python 3 (ipykernel)",
   "language": "python",
   "name": "python3"
  },
  "language_info": {
   "codemirror_mode": {
    "name": "ipython",
    "version": 3
   },
   "file_extension": ".py",
   "mimetype": "text/x-python",
   "name": "python",
   "nbconvert_exporter": "python",
   "pygments_lexer": "ipython3",
   "version": "3.9.12"
  }
 },
 "nbformat": 4,
 "nbformat_minor": 5
}
